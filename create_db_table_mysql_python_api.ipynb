{
 "cells": [
  {
   "cell_type": "markdown",
   "source": [
    "  \n",
    "  \n",
    "## CREATE DB, TABLES \n",
    "\n",
    "To complete this exercise, you must have access to the MySQL database. As an authorized user, you need to establish a connection between Python and MySQL via the connector API and create a “cursor” object using the following code: "
   ],
   "metadata": {}
  },
  {
   "cell_type": "code",
   "execution_count": 14,
   "source": [
    "#install connector api using the command below.\n",
    "!pip install mysql-connector-python\n",
    "\n",
    "# Import the MySQL Connector/Python\n",
    "import mysql.connector as connector\n",
    "\n",
    "connection = connector.connect(\n",
    "    host=\"localhost\",\n",
    "    user=\"root\",      # or your MySQL username\n",
    "    password=\"\"       # or your MySQL password\n",
    ")\n",
    "print(\"Connected:\", connection.is_connected())\n",
    "\n",
    "cursor = connection.cursor()\n",
    "print(\"Cursor created successfully.\")\n"
   ],
   "outputs": [
    {
     "output_type": "stream",
     "name": "stdout",
     "text": [
      "Requirement already satisfied: mysql-connector-python in /home/coder/.local/lib/python3.8/site-packages (9.0.0)\n",
      "Connected: True\n",
      "Cursor created successfully.\n"
     ]
    }
   ],
   "metadata": {}
  },
  {
   "cell_type": "code",
   "execution_count": 12,
   "source": [
    "#!pip show mysql-connector-python\n",
    "connection=connector.connect()"
   ],
   "outputs": [],
   "metadata": {}
  },
  {
   "cell_type": "markdown",
   "source": [
    "Once the connection is established and you have a cursor object, you can carry out the required tasks. "
   ],
   "metadata": {}
  },
  {
   "cell_type": "code",
   "execution_count": 40,
   "source": [
    "# Create a cursor object to communicate with entire MySQL database\n",
    "try:\n",
    "    connection = connector.connect(\n",
    "        host=\"localhost\",\n",
    "        user=\"root\",\n",
    "        password=\"\"\n",
    "    )\n",
    "    if connection.is_connected():\n",
    "        cursor = connection.cursor()\n",
    "        print(\"Cursor created. Ready to execute queries.\")\n",
    "except connector.Error as err:\n",
    "    print(f\"Error: {err}\")"
   ],
   "outputs": [
    {
     "output_type": "stream",
     "name": "stdout",
     "text": [
      "Cursor created. Ready to execute queries.\n"
     ]
    }
   ],
   "metadata": {}
  },
  {
   "cell_type": "markdown",
   "source": [
    "## Scenario \n",
    "\n",
    "Little Lemon needs a Python-based application in which they can organize their data within different tables in a MySQL database.  \n",
    "\n",
    "First, they need to create their database. Then they need to create the database’s tables.  \n",
    "\n",
    "The list of tables they need to create are as follows: \n",
    "\n",
    "* A table called Menu that stores menu data \n",
    "* A table called MenuItems that stores data on menu items \n",
    "* A table called Orders that stores data on customer orders \n",
    "* And a table called Bookings that stores data on customer bookings \n",
    "\n",
    "Complete the tasks that follow to help Little Lemon create the database and the tables. "
   ],
   "metadata": {}
  },
  {
   "cell_type": "markdown",
   "source": [
    "## Task 1:\n",
    "Little Lemon need to create a database that can hold their tables. Create a MySQL database for Little Lemon using Python. You can call the database “little_lemon”. \n",
    "You also need to confirm that the database has been successfully created by executing the `“SHOW DATABASE”` query. \n",
    "\n",
    "**Tip:** If a database with the same name already exists, then you’ll receive an error confirming its existence. Otherwise, your code will be executed with no output. "
   ],
   "metadata": {}
  },
  {
   "cell_type": "code",
   "execution_count": 30,
   "source": [
    "try:\n",
    "    cursor.execute(\"CREATE DATABASE little_lemon\")\n",
    "    print(\"Database 'little_lemon' created successfully.\")\n",
    "except connector.Error as err:\n",
    "    print(f\"Error: {err}\")\n",
    "    \n",
    "# Show databases to confirm\n",
    "cursor.execute(\"SHOW DATABASES\")\n",
    "print(\"\\nList of databases:\")\n",
    "for db in cursor:\n",
    "    print(db)"
   ],
   "outputs": [
    {
     "output_type": "stream",
     "name": "stdout",
     "text": [
      "Error: 1007 (HY000): Can't create database 'little_lemon'; database exists\n",
      "\n",
      "List of databases:\n",
      "('information_schema',)\n",
      "('little_lemon',)\n",
      "('mysql',)\n",
      "('performance_schema',)\n",
      "('sys',)\n"
     ]
    }
   ],
   "metadata": {}
  },
  {
   "cell_type": "markdown",
   "source": [
    "## Task 2:\n",
    "Set the newly created database `“little_lemon”` for use. Confirm that the database is available for use by using `connection.database`. \n",
    "\n",
    "**Tip:** If the `“little_lemon”` database already exists, then the code in your jupyter notebook cell should execute without any error."
   ],
   "metadata": {}
  },
  {
   "cell_type": "code",
   "execution_count": 31,
   "source": [
    "# Set little_lemon database for use\n",
    "cursor.execute(\"USE little_lemon\")\n",
    "\n",
    "# Confirm the database in use\n",
    "connection.database\n"
   ],
   "outputs": [
    {
     "output_type": "execute_result",
     "data": {
      "text/plain": [
       "'little_lemon'"
      ]
     },
     "metadata": {},
     "execution_count": 31
    }
   ],
   "metadata": {}
  },
  {
   "cell_type": "markdown",
   "source": [
    "## Creating tables "
   ],
   "metadata": {}
  },
  {
   "cell_type": "markdown",
   "source": [
    "## Task 3:\n",
    "\n",
    "Create a `“MenuItems”` table using the following SQL query as a Python string:\n",
    "```Python\n",
    "create_menuitem_table = \"\"\"CREATE TABLE MenuItems (\n",
    "ItemID INT AUTO_INCREMENT,\n",
    "Name VARCHAR(200),\n",
    "Type VARCHAR(100),\n",
    "Price INT,\n",
    "PRIMARY KEY (ItemID)\n",
    ");\"\"\"\n",
    "```\n",
    "Once you have executed the query, use the `“SHOW TABLES”` command to confirm that the table has been created.\n",
    "\n",
    "**Tip:** The code will run in the jupyter notebook with no error if your SQL query is correct, and the table does not exist. "
   ],
   "metadata": {}
  },
  {
   "cell_type": "code",
   "execution_count": 43,
   "source": [
    "cursor.execute(\"USE little_lemon\")\n",
    "\n",
    "create_menuitem_table = \"\"\"\n",
    "CREATE TABLE MenuItems (\n",
    "ItemID INT AUTO_INCREMENT,\n",
    "Name VARCHAR(200),\n",
    "Type VARCHAR(100),\n",
    "Price INT,\n",
    "PRIMARY KEY (ItemID)\n",
    ");\"\"\"\n",
    "\n",
    "cursor.execute(create_menuitem_table)\n",
    "\n",
    "cursor.execute(\"SHOW TABLES\")\n",
    "print(\"Tables in little_lemon database:\")\n",
    "for table in cursor:\n",
    "    print(table)\n"
   ],
   "outputs": [
    {
     "output_type": "stream",
     "name": "stdout",
     "text": [
      "Tables in little_lemon database:\n",
      "('MenuItems',)\n"
     ]
    }
   ],
   "metadata": {}
  },
  {
   "cell_type": "markdown",
   "source": [
    "## Task 4: \n",
    "\n",
    "Create the `“Menus”` table to store data on menus using the following SQL query as a Python string.\n",
    "```Python\n",
    "create_menu_table = \"\"\"CREATE TABLE Menus (\n",
    "MenuID INT,\n",
    "ItemID INT,\n",
    "Cuisine VARCHAR(100),\n",
    "PRIMARY KEY (MenuID,ItemID)\n",
    ");\"\"\"\n",
    "```\n",
    "Once you have executed the query, use the `SHOW TABLES` command to confirm that the table has been created. \n",
    "\n",
    "**Tip:** The code will run in the jupyter notebook with no error if your SQL query is correct, and the table does not exist. "
   ],
   "metadata": {}
  },
  {
   "cell_type": "code",
   "execution_count": 49,
   "source": [
    "cursor.execute(\"USE little_lemon\")\n",
    "\n",
    "create_menus_table = \"\"\"CREATE TABLE Menus (\n",
    "    MenuID INT,\n",
    "    ItemID INT,\n",
    "    Cuisine VARCHAR(100),\n",
    "    PRIMARY KEY (MenuID,ItemID)\n",
    "    );\"\"\"\n",
    "\n",
    "cursor.execute(create_menus_table)\n",
    "\n",
    "cursor.execute(\"SHOW TABLES\")\n",
    "print(\"Tables in little_lemon database:\")\n",
    "for table in cursor:\n",
    "    print(table)\n"
   ],
   "outputs": [
    {
     "output_type": "stream",
     "name": "stdout",
     "text": [
      "Tables in little_lemon database:\n",
      "('MenuItems',)\n",
      "('Menus',)\n"
     ]
    }
   ],
   "metadata": {}
  },
  {
   "cell_type": "markdown",
   "source": [
    "## Task 5: \n",
    "\n",
    "Create the “Bookings” table to store data on customer bookings using the following SQL query as a Python string:\n",
    "\n",
    "```Python\n",
    "Create_booking_table = \"\"\"CREATE TABLE Bookings (\n",
    "BookingID INT AUTO_INCREMENT,\n",
    "TableNo INT,\n",
    "GuestFirstName VARCHAR(100) NOT NULL,\n",
    "GuestLastName VARCHAR(100) NOT NULL,\n",
    "BookingSlot TIME NOT NULL,\n",
    "EmployeeID INT,\n",
    "PRIMARY KEY (BookingID)\n",
    ");\"\"\"\n",
    "```\n",
    "Once you have executed the query, use the `“SHOW TABLES”` command to confirm that the table has been created.\n",
    "\n",
    "**Tip:** The code will run in the jupyter notebook with no error if your SQL query is correct, and the table does not exist. "
   ],
   "metadata": {}
  },
  {
   "cell_type": "code",
   "execution_count": 50,
   "source": [
    "create_booking_table = \"\"\"\n",
    "CREATE TABLE Bookings (\n",
    "BookingID INT AUTO_INCREMENT,\n",
    "TableNo INT,\n",
    "GuestFirstName VARCHAR(100) NOT NULL,\n",
    "GuestLastName VARCHAR(100) NOT NULL,\n",
    "BookingSlot TIME NOT NULL,\n",
    "EmployeeID INT,\n",
    "PRIMARY KEY (BookingID)\n",
    ");\"\"\"\n",
    "\n",
    "cursor.execute(create_booking_table)\n",
    "\n",
    "cursor.execute(\"SHOW TABLES\")\n",
    "print(\"Tables in little_lemon database:\")\n",
    "for table in cursor:\n",
    "    print(table)\n"
   ],
   "outputs": [
    {
     "output_type": "stream",
     "name": "stdout",
     "text": [
      "Tables in little_lemon database:\n",
      "('Bookings',)\n",
      "('MenuItems',)\n",
      "('Menus',)\n"
     ]
    }
   ],
   "metadata": {}
  },
  {
   "cell_type": "markdown",
   "source": [
    "## Task 6: \n",
    "\n",
    "Create an “Orders” table to store data on customer orders using the following SQL query as a Python string:\n",
    "```Python\n",
    "create_orders_table = \"\"\"CREATE TABLE Orders (\n",
    "OrderID INT,\n",
    "TableNo INT,\n",
    "MenuID INT,\n",
    "BookingID INT,\n",
    "BillAmount INT,\n",
    "Quantity INT,\n",
    "PRIMARY KEY (OrderID,TableNo)\n",
    ");\"\"\"\n",
    "```\n",
    "\n",
    "Once you have executed the code, use the SHOW TABLES command to confirm that the table has been created. \n",
    "\n",
    "**Tip:** The code will run in the jupyter notebook with no error if your sql query is correct, and the table does not exist"
   ],
   "metadata": {}
  },
  {
   "cell_type": "code",
   "execution_count": 53,
   "source": [
    "create_orders_table = \"\"\"\n",
    "CREATE TABLE Orders (\n",
    "OrderID INT,\n",
    "TableNo INT,\n",
    "MenuID INT,\n",
    "BookingID INT,\n",
    "BillAmount INT,\n",
    "Quantity INT,\n",
    "PRIMARY KEY (OrderID,TableNo)\n",
    ");\"\"\"\n",
    "\n",
    "cursor.execute(create_orders_table)\n",
    "\n",
    "cursor.execute(\"SHOW TABLES\")\n",
    "print(\"Tables in little_lemon database:\")\n",
    "for table in cursor:\n",
    "    print(table)\n"
   ],
   "outputs": [
    {
     "output_type": "stream",
     "name": "stdout",
     "text": [
      "Tables in little_lemon database:\n",
      "('Bookings',)\n",
      "('MenuItems',)\n",
      "('Menus',)\n",
      "('Orders',)\n"
     ]
    }
   ],
   "metadata": {}
  }
 ],
 "metadata": {
  "kernelspec": {
   "name": "python3",
   "display_name": "Python 3.8.10 64-bit"
  },
  "language_info": {
   "codemirror_mode": {
    "name": "ipython",
    "version": 3
   },
   "file_extension": ".py",
   "mimetype": "text/x-python",
   "name": "python",
   "nbconvert_exporter": "python",
   "pygments_lexer": "ipython3",
   "version": "3.8.10"
  },
  "interpreter": {
   "hash": "31f2aee4e71d21fbe5cf8b01ff0e069b9275f58929596ceb00d14d90e3e16cd6"
  }
 },
 "nbformat": 4,
 "nbformat_minor": 4
}